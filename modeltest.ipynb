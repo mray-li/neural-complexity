{
 "cells": [
  {
   "cell_type": "code",
   "execution_count": 1,
   "metadata": {},
   "outputs": [],
   "source": [
    "\n",
    "from __future__ import print_function\n",
    "import argparse\n",
    "import time\n",
    "import math\n",
    "import sys\n",
    "import warnings\n",
    "import torch\n",
    "import torch.nn as nn\n",
    "import data\n",
    "import model"
   ]
  },
  {
   "cell_type": "code",
   "execution_count": 6,
   "metadata": {},
   "outputs": [
    {
     "ename": "ModuleAttributeError",
     "evalue": "'RNNModel' object has no attribute 'RNNModel'",
     "output_type": "error",
     "traceback": [
      "\u001b[0;31m---------------------------------------------------------------------------\u001b[0m",
      "\u001b[0;31mModuleAttributeError\u001b[0m                      Traceback (most recent call last)",
      "\u001b[0;32m<ipython-input-6-ee8347e9624a>\u001b[0m in \u001b[0;36m<module>\u001b[0;34m\u001b[0m\n\u001b[1;32m      1\u001b[0m \u001b[0mdevice\u001b[0m\u001b[0;34m=\u001b[0m\u001b[0mtorch\u001b[0m\u001b[0;34m.\u001b[0m\u001b[0mdevice\u001b[0m\u001b[0;34m(\u001b[0m\u001b[0;34m\"cpu\"\u001b[0m\u001b[0;34m)\u001b[0m\u001b[0;34m\u001b[0m\u001b[0;34m\u001b[0m\u001b[0m\n\u001b[1;32m      2\u001b[0m \u001b[0mntokens\u001b[0m \u001b[0;34m=\u001b[0m \u001b[0mlen\u001b[0m\u001b[0;34m(\u001b[0m\u001b[0mcorpus\u001b[0m\u001b[0;34m.\u001b[0m\u001b[0mdictionary\u001b[0m\u001b[0;34m)\u001b[0m\u001b[0;34m\u001b[0m\u001b[0;34m\u001b[0m\u001b[0m\n\u001b[0;32m----> 3\u001b[0;31m model = model.RNNModel('LSTM', ntokens, 200, 200,\n\u001b[0m\u001b[1;32m      4\u001b[0m                            \u001b[0;36m2\u001b[0m\u001b[0;34m,\u001b[0m \u001b[0membedding_file\u001b[0m\u001b[0;34m=\u001b[0m\u001b[0;32mNone\u001b[0m\u001b[0;34m,\u001b[0m\u001b[0;34m\u001b[0m\u001b[0;34m\u001b[0m\u001b[0m\n\u001b[1;32m      5\u001b[0m                            \u001b[0mdropout\u001b[0m\u001b[0;34m=\u001b[0m\u001b[0;36m0.2\u001b[0m\u001b[0;34m,\u001b[0m \u001b[0mtie_weights\u001b[0m\u001b[0;34m=\u001b[0m\u001b[0;32mFalse\u001b[0m\u001b[0;34m,\u001b[0m\u001b[0;34m\u001b[0m\u001b[0;34m\u001b[0m\u001b[0m\n",
      "\u001b[0;32m/usr/lib/python3/dist-packages/torch/nn/modules/module.py\u001b[0m in \u001b[0;36m__getattr__\u001b[0;34m(self, name)\u001b[0m\n\u001b[1;32m    776\u001b[0m             \u001b[0;32mif\u001b[0m \u001b[0mname\u001b[0m \u001b[0;32min\u001b[0m \u001b[0mmodules\u001b[0m\u001b[0;34m:\u001b[0m\u001b[0;34m\u001b[0m\u001b[0;34m\u001b[0m\u001b[0m\n\u001b[1;32m    777\u001b[0m                 \u001b[0;32mreturn\u001b[0m \u001b[0mmodules\u001b[0m\u001b[0;34m[\u001b[0m\u001b[0mname\u001b[0m\u001b[0;34m]\u001b[0m\u001b[0;34m\u001b[0m\u001b[0;34m\u001b[0m\u001b[0m\n\u001b[0;32m--> 778\u001b[0;31m         raise ModuleAttributeError(\"'{}' object has no attribute '{}'\".format(\n\u001b[0m\u001b[1;32m    779\u001b[0m             type(self).__name__, name))\n\u001b[1;32m    780\u001b[0m \u001b[0;34m\u001b[0m\u001b[0m\n",
      "\u001b[0;31mModuleAttributeError\u001b[0m: 'RNNModel' object has no attribute 'RNNModel'"
     ]
    }
   ],
   "source": [
    "device=torch.device(\"cpu\")\n",
    "ntokens = len(corpus.dictionary)\n",
    "model = model.RNNModel('LSTM', ntokens, 200, 200,\n",
    "                           2, embedding_file=None,\n",
    "                           dropout=0.2, tie_weights=False,\n",
    "                           freeze_embedding=False).to(device)\n",
    "\n",
    "\n",
    "\n",
    "def evaluate(data_source):\n",
    "    \"\"\" Evaluate for validation (no adaptation, no complexity output) \"\"\"\n",
    "    # Turn on evaluation mode which disables dropout.\n",
    "    model.eval()\n",
    "    total_loss = 0.\n",
    "    ntokens = len(corpus.dictionary)\n",
    "    hidden = model.init_hidden(20)\n",
    "    with torch.no_grad():\n",
    "        for i in range(0, data_source.size(0) - 1, 35):\n",
    "            data, targets = get_batch(data_source, i)\n",
    "            output, hidden = model(data, hidden)\n",
    "            output_flat = output.view(-1, ntokens)\n",
    "            total_loss += len(data) * criterion(output_flat, targets.long()).item()\n",
    "            hidden = repackage_hidden(hidden)\n",
    "    return total_loss / len(data_source)\n",
    "\n",
    "\n",
    "def batchify(data, bsz):\n",
    "    ''' Starting from sequential data, batchify arranges the dataset into columns.\n",
    "    For instance, with the alphabet as the sequence and batch size 4, we'd get\n",
    "    a g m s\n",
    "    b h n t\n",
    "    c i o u\n",
    "    d j p v\n",
    "    e k q w\n",
    "    f l r x\n",
    "    These columns are treated as independent by the model, which means that the\n",
    "    dependence of e. g. 'g' on 'f' can not be learned, but allows more efficient\n",
    "    batch processing.\n",
    "    '''\n",
    "    # Work out how cleanly we can divide the dataset into bsz parts.\n",
    "    nbatch = data.size(0) // bsz\n",
    "    # Trim off any extra elements that wouldn't cleanly fit (remainders).\n",
    "    data = data.narrow(0, 0, nbatch * bsz)\n",
    "    # Evenly divide the data across the bsz batches.\n",
    "    data = data.view(bsz, -1).t().contiguous()\n",
    "    # Turning the data over to CUDA at this point may lead to more OOM errors\n",
    "    return data.to(device)\n",
    "\n",
    "\n",
    "corpus = data.SentenceCorpus('./data','../yue_wiki/files_doc/modified/bpevocab',\n",
    "                            trainfname='can_train',\n",
    "                            validfname='can_test')\n",
    "\n",
    "\n",
    "val_data=batchify(corpus.valid, 20)\n",
    "\n",
    "\n",
    "evaluate(val_data)"
   ]
  },
  {
   "cell_type": "code",
   "execution_count": 21,
   "metadata": {},
   "outputs": [
    {
     "name": "stdout",
     "output_type": "stream",
     "text": [
      "Libraries loaded\n",
      "<_io.TextIOWrapper name='./data/can_train' mode='r' encoding='UTF-8'>\n",
      "<_io.TextIOWrapper name='./data/can_test' mode='r' encoding='UTF-8'>\n",
      "Traceback (most recent call last):\n",
      "  File \"main.py\", line 582, in <module>\n",
      "    train()\n",
      "  File \"main.py\", line 549, in train\n",
      "    output, hidden = model(data, hidden)\n",
      "  File \"/afs/inf.ed.ac.uk/user/s20/s2059804/miniconda3/envs/msc/lib/python3.8/site-packages/torch/nn/modules/module.py\", line 727, in _call_impl\n",
      "    result = self.forward(*input, **kwargs)\n",
      "  File \"/afs/inf.ed.ac.uk/user/s20/s2059804/msc/neural-complexity/model.py\", line 85, in forward\n",
      "    emb = self.drop(self.encoder(observation))\n",
      "  File \"/afs/inf.ed.ac.uk/user/s20/s2059804/miniconda3/envs/msc/lib/python3.8/site-packages/torch/nn/modules/module.py\", line 727, in _call_impl\n",
      "    result = self.forward(*input, **kwargs)\n",
      "  File \"/afs/inf.ed.ac.uk/user/s20/s2059804/miniconda3/envs/msc/lib/python3.8/site-packages/torch/nn/modules/sparse.py\", line 124, in forward\n",
      "    return F.embedding(\n",
      "  File \"/afs/inf.ed.ac.uk/user/s20/s2059804/miniconda3/envs/msc/lib/python3.8/site-packages/torch/nn/functional.py\", line 1852, in embedding\n",
      "    return torch.embedding(weight, input, padding_idx, scale_grad_by_freq, sparse)\n",
      "RuntimeError: Expected tensor for argument #1 'indices' to have scalar type Long; but got torch.IntTensor instead (while checking arguments for embedding)\n",
      "\n",
      "real\t1m21.447s\n",
      "user\t1m20.868s\n",
      "sys\t0m0.109s\n"
     ]
    }
   ],
   "source": [
    "!time python main.py --vocab_file ../yue_wiki/files_doc/modified/bpevocab --data_dir ./data --trainfname can_train --validfname can_test\n"
   ]
  },
  {
   "cell_type": "code",
   "execution_count": null,
   "metadata": {},
   "outputs": [],
   "source": []
  }
 ],
 "metadata": {
  "kernelspec": {
   "display_name": "Python 3",
   "language": "python",
   "name": "python3"
  },
  "language_info": {
   "codemirror_mode": {
    "name": "ipython",
    "version": 3
   },
   "file_extension": ".py",
   "mimetype": "text/x-python",
   "name": "python",
   "nbconvert_exporter": "python",
   "pygments_lexer": "ipython3",
   "version": "3.8.5"
  }
 },
 "nbformat": 4,
 "nbformat_minor": 4
}
